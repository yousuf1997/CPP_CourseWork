{
 "cells": [
  {
   "cell_type": "code",
   "execution_count": 34,
   "id": "8604737f",
   "metadata": {},
   "outputs": [
    {
     "name": "stdout",
     "output_type": "stream",
     "text": [
      "Overwriting min_max_wind_direction.py\n"
     ]
    }
   ],
   "source": [
    "%%file min_max_wind_direction.py\n",
    "\n",
    "import re\n",
    "import json\n",
    "import sys\n",
    "\n",
    "from mrjob.job import MRJob\n",
    "\n",
    "QUALITY_RE = re.compile(r\"[01459]\")\n",
    "\n",
    "class MinMaxWindirection(MRJob):\n",
    "    \n",
    "    def mapper(self, _, line):\n",
    "        val = line.strip()\n",
    "        (windDirection, temp, q) = (val[60:63], val[87:92], val[63:64])\n",
    "        if (windDirection != \"999\" and temp != \"+9999\" and re.match(QUALITY_RE, q)):\n",
    "            ## key is windirection \n",
    "            yield int(windDirection), int(temp)\n",
    "\n",
    "    def reducer(self, key, values):\n",
    "        ## higher number as a starting point \n",
    "        minTemperature = sys.maxsize\n",
    "        ## lower number as a starting point\n",
    "        maxTemperature = -1 * sys.maxsize\n",
    "        ## count\n",
    "        counter = 0\n",
    "        for data in values:\n",
    "            minTemperature = min(minTemperature, data)\n",
    "            maxTemperature = max(maxTemperature, data)\n",
    "            counter = counter + 1\n",
    "        yield key, {\"low\": minTemperature, \"high\" : maxTemperature, \"count\": counter}\n",
    "\n",
    "if __name__ == '__main__':\n",
    "    MinMaxWindirection.run()"
   ]
  },
  {
   "cell_type": "code",
   "execution_count": 35,
   "id": "48b24959",
   "metadata": {},
   "outputs": [
    {
     "name": "stdout",
     "output_type": "stream",
     "text": [
      "110\t{\"low\":-239,\"high\":278,\"count\":296}\n",
      "140\t{\"low\":-328,\"high\":278,\"count\":1005}\n",
      "160\t{\"low\":-239,\"high\":289,\"count\":647}\n",
      "180\t{\"low\":-250,\"high\":294,\"count\":879}\n",
      "20\t{\"low\":-272,\"high\":317,\"count\":582}\n",
      "200\t{\"low\":-183,\"high\":300,\"count\":688}\n",
      "230\t{\"low\":-228,\"high\":283,\"count\":1488}\n",
      "250\t{\"low\":-222,\"high\":311,\"count\":604}\n",
      "270\t{\"low\":-211,\"high\":278,\"count\":931}\n",
      "290\t{\"low\":-328,\"high\":306,\"count\":379}\n",
      "320\t{\"low\":-311,\"high\":306,\"count\":1152}\n",
      "340\t{\"low\":-300,\"high\":311,\"count\":427}\n",
      "360\t{\"low\":-267,\"high\":289,\"count\":888}\n",
      "50\t{\"low\":-322,\"high\":306,\"count\":1039}\n",
      "70\t{\"low\":-333,\"high\":278,\"count\":502}\n",
      "90\t{\"low\":-267,\"high\":272,\"count\":567}\n"
     ]
    },
    {
     "name": "stderr",
     "output_type": "stream",
     "text": [
      "No configs found; falling back on auto-configuration\n",
      "No configs specified for inline runner\n",
      "Creating temp directory C:\\Users\\moham\\AppData\\Local\\Temp\\min_max_wind_direction.moham.20230924.235432.054376\n",
      "Running step 1 of 1...\n",
      "job output is in C:\\Users\\moham\\AppData\\Local\\Temp\\min_max_wind_direction.moham.20230924.235432.054376\\output\n",
      "Streaming final output from C:\\Users\\moham\\AppData\\Local\\Temp\\min_max_wind_direction.moham.20230924.235432.054376\\output...\n",
      "Removing temp directory C:\\Users\\moham\\AppData\\Local\\Temp\\min_max_wind_direction.moham.20230924.235432.054376...\n"
     ]
    }
   ],
   "source": [
    "!python min_max_wind_direction.py 1901 1902"
   ]
  },
  {
   "cell_type": "code",
   "execution_count": null,
   "id": "b45e4ac3",
   "metadata": {},
   "outputs": [],
   "source": []
  }
 ],
 "metadata": {
  "kernelspec": {
   "display_name": "Python 3 (ipykernel)",
   "language": "python",
   "name": "python3"
  },
  "language_info": {
   "codemirror_mode": {
    "name": "ipython",
    "version": 3
   },
   "file_extension": ".py",
   "mimetype": "text/x-python",
   "name": "python",
   "nbconvert_exporter": "python",
   "pygments_lexer": "ipython3",
   "version": "3.11.5"
  }
 },
 "nbformat": 4,
 "nbformat_minor": 5
}
