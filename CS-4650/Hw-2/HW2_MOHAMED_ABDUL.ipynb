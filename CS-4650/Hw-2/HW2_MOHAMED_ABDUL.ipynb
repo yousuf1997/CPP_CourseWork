{
 "cells": [
  {
   "cell_type": "code",
   "execution_count": 35,
   "id": "66e1a5b9",
   "metadata": {},
   "outputs": [
    {
     "name": "stdout",
     "output_type": "stream",
     "text": [
      "Overwriting find_max_col_min_row.py\n"
     ]
    }
   ],
   "source": [
    "%%file find_max_col_min_row.py\n",
    "\n",
    "import re\n",
    "import json\n",
    "import sys\n",
    "\n",
    "from mrjob.job import MRJob\n",
    "\n",
    "class MaxColMinRow(MRJob):\n",
    "    \n",
    "    def mapper(self, _, line):\n",
    "        values = line.strip().split(\",\")\n",
    "        # first value is the column\n",
    "        # second value is the row\n",
    "        # third value is cell value\n",
    "        # return the column\n",
    "        yield values[0], int(values[2])\n",
    "        ## return the row \n",
    "        yield values[1], int(values[2])\n",
    "        \n",
    "    def reducer(self, key, values):\n",
    "        ## the key is either the column or row \n",
    "        ## we have to check if its column or row\n",
    "        if self.isRow(key):\n",
    "            ## find the min \n",
    "            lowestValue = sys.maxsize\n",
    "            for value in values:\n",
    "                lowestValue = min(lowestValue, value)\n",
    "            yield key, lowestValue    \n",
    "        if  self.isColumn(key):\n",
    "            ## find the max \n",
    "            highestValue = 0\n",
    "            for value in values:\n",
    "                highestValue = max(highestValue, value)\n",
    "            yield key, highestValue       \n",
    "        \n",
    "   ## helper method to determine the colum \n",
    "    def isColumn(self, value):\n",
    "        columnsRegex = re.compile(r\"[A-J]\")\n",
    "        return re.match(columnsRegex, value)\n",
    "    \n",
    "    ## helper method to determine the row \n",
    "    def isRow(self, value):\n",
    "        rowsRegex = re.compile(r\"[K-T]\")\n",
    "        return re.match(rowsRegex, value)\n",
    "    \n",
    "if __name__ == '__main__':\n",
    "    MaxColMinRow.run()"
   ]
  },
  {
   "cell_type": "code",
   "execution_count": 36,
   "id": "672a23b8",
   "metadata": {},
   "outputs": [
    {
     "name": "stdout",
     "output_type": "stream",
     "text": [
      "\"A\"\t994\n",
      "\"B\"\t999\n",
      "\"C\"\t987\n",
      "\"D\"\t995\n",
      "\"E\"\t998\n",
      "\"F\"\t997\n",
      "\"G\"\t997\n",
      "\"H\"\t997\n",
      "\"I\"\t995\n",
      "\"J\"\t992\n",
      "\"K\"\t0\n",
      "\"L\"\t3\n",
      "\"M\"\t0\n",
      "\"N\"\t13\n",
      "\"O\"\t1\n",
      "\"P\"\t12\n",
      "\"Q\"\t0\n",
      "\"R\"\t2\n",
      "\"S\"\t5\n",
      "\"T\"\t2\n"
     ]
    },
    {
     "name": "stderr",
     "output_type": "stream",
     "text": [
      "No configs found; falling back on auto-configuration\n",
      "No configs specified for inline runner\n",
      "Creating temp directory C:\\Users\\moham\\AppData\\Local\\Temp\\find_max_col_min_row.moham.20231002.055029.374139\n",
      "Running step 1 of 1...\n",
      "job output is in C:\\Users\\moham\\AppData\\Local\\Temp\\find_max_col_min_row.moham.20231002.055029.374139\\output\n",
      "Streaming final output from C:\\Users\\moham\\AppData\\Local\\Temp\\find_max_col_min_row.moham.20231002.055029.374139\\output...\n",
      "Removing temp directory C:\\Users\\moham\\AppData\\Local\\Temp\\find_max_col_min_row.moham.20231002.055029.374139...\n"
     ]
    }
   ],
   "source": [
    "!python find_max_col_min_row.py cs4650hw1.dat"
   ]
  },
  {
   "cell_type": "code",
   "execution_count": 1,
   "id": "4932fb1c",
   "metadata": {},
   "outputs": [
    {
     "name": "stdout",
     "output_type": "stream",
     "text": [
      "Overwriting find_max_col_min_row_part_2.py\n"
     ]
    }
   ],
   "source": [
    "%%file find_max_col_min_row_part_2.py\n",
    "\n",
    "import re\n",
    "import json\n",
    "import sys\n",
    "\n",
    "from mrjob.job import MRJob\n",
    "\n",
    "class MaxColMinRow2(MRJob):\n",
    "    \n",
    "    def mapper(self, _, line):\n",
    "        values = line.strip().split(\",\")\n",
    "        # first value is the column\n",
    "        # second value is the row\n",
    "        # third value is cell value\n",
    "        # return the column as key , object of value, one row name\n",
    "        yield values[0] , {\"value\" : int(values[2]), \"example\": values[1]}\n",
    "        ## return the row as key , object of value, one row name\n",
    "        yield values[1] , {\"value\" : int(values[2]), \"example\": values[0]}\n",
    "        \n",
    "    def reducer(self, key, values):\n",
    "        ## the key is either the column or row \n",
    "        ## we have to check if its column or row\n",
    "        if self.isRow(key):\n",
    "            ## find the min \n",
    "            lowestValue = sys.maxsize\n",
    "            exampleColumn = ''\n",
    "            for row in values:\n",
    "                lowestValue = min(lowestValue, row['value'])\n",
    "                exampleColumn = row['example']\n",
    "                    \n",
    "            yield key, {\"value\": lowestValue, \"example\": exampleColumn}\n",
    "           \n",
    "        if  self.isColumn(key):\n",
    "            ## find the max \n",
    "            highestValue = 0\n",
    "            exampleRow = ''\n",
    "            for column in values:\n",
    "                highestValue = max(highestValue, column['value'])\n",
    "                exampleRow = column['example']\n",
    "                                \n",
    "            yield key, {\"value\": highestValue, \"example\": exampleRow}\n",
    "        \n",
    "   ## helper method to determine the colum \n",
    "    def isColumn(self, value):\n",
    "        columnsRegex = re.compile(r\"[A-J]\")\n",
    "        return re.match(columnsRegex, value)\n",
    "    \n",
    "    ## helper method to determine the row \n",
    "    def isRow(self, value):\n",
    "        rowsRegex = re.compile(r\"[K-T]\")\n",
    "        return re.match(rowsRegex, value)\n",
    "    \n",
    "if __name__ == '__main__':\n",
    "    MaxColMinRow2.run()"
   ]
  },
  {
   "cell_type": "code",
   "execution_count": 2,
   "id": "bc049e3e",
   "metadata": {},
   "outputs": [
    {
     "name": "stdout",
     "output_type": "stream",
     "text": [
      "\"A\"\t{\"value\":994,\"example\":\"T\"}\n",
      "\"B\"\t{\"value\":999,\"example\":\"T\"}\n",
      "\"C\"\t{\"value\":987,\"example\":\"T\"}\n",
      "\"D\"\t{\"value\":995,\"example\":\"T\"}\n",
      "\"E\"\t{\"value\":998,\"example\":\"T\"}\n",
      "\"F\"\t{\"value\":997,\"example\":\"T\"}\n",
      "\"G\"\t{\"value\":997,\"example\":\"T\"}\n",
      "\"H\"\t{\"value\":997,\"example\":\"T\"}\n",
      "\"I\"\t{\"value\":995,\"example\":\"T\"}\n",
      "\"J\"\t{\"value\":992,\"example\":\"T\"}\n",
      "\"K\"\t{\"value\":0,\"example\":\"J\"}\n",
      "\"L\"\t{\"value\":3,\"example\":\"J\"}\n",
      "\"M\"\t{\"value\":0,\"example\":\"J\"}\n",
      "\"N\"\t{\"value\":13,\"example\":\"J\"}\n",
      "\"O\"\t{\"value\":1,\"example\":\"J\"}\n",
      "\"P\"\t{\"value\":12,\"example\":\"J\"}\n",
      "\"Q\"\t{\"value\":0,\"example\":\"J\"}\n",
      "\"R\"\t{\"value\":2,\"example\":\"J\"}\n",
      "\"S\"\t{\"value\":5,\"example\":\"J\"}\n",
      "\"T\"\t{\"value\":2,\"example\":\"J\"}\n"
     ]
    },
    {
     "name": "stderr",
     "output_type": "stream",
     "text": [
      "No configs found; falling back on auto-configuration\n",
      "No configs specified for inline runner\n",
      "Creating temp directory C:\\Users\\moham\\AppData\\Local\\Temp\\find_max_col_min_row_part_2.moham.20231005.061958.178262\n",
      "Running step 1 of 1...\n",
      "job output is in C:\\Users\\moham\\AppData\\Local\\Temp\\find_max_col_min_row_part_2.moham.20231005.061958.178262\\output\n",
      "Streaming final output from C:\\Users\\moham\\AppData\\Local\\Temp\\find_max_col_min_row_part_2.moham.20231005.061958.178262\\output...\n",
      "Removing temp directory C:\\Users\\moham\\AppData\\Local\\Temp\\find_max_col_min_row_part_2.moham.20231005.061958.178262...\n"
     ]
    }
   ],
   "source": [
    "!python find_max_col_min_row_part_2.py cs4650hw1.dat"
   ]
  },
  {
   "cell_type": "code",
   "execution_count": 55,
   "id": "f3585e62",
   "metadata": {},
   "outputs": [
    {
     "name": "stdout",
     "output_type": "stream",
     "text": [
      "Overwriting find_max_col_min_row_part_3.py\n"
     ]
    }
   ],
   "source": [
    "%%file find_max_col_min_row_part_3.py\n",
    "\n",
    "import re\n",
    "import json\n",
    "import sys\n",
    "\n",
    "from mrjob.job import MRJob\n",
    "\n",
    "class MaxColMinRow3(MRJob):\n",
    "    \n",
    "    def mapper(self, _, line):\n",
    "        values = line.strip().split(\",\")\n",
    "        # first value is the column\n",
    "        # second value is the row\n",
    "        # third value is cell value\n",
    "        # return the column as key , object of value, one row name\n",
    "        yield values[0] , {\"value\" : int(values[2]), \"example\": values[1]}\n",
    "        ## return the row as key , object of value, one row name\n",
    "        yield values[1] , {\"value\" : int(values[2]), \"example\": values[0]}\n",
    "        \n",
    "    def reducer(self, key, values):\n",
    "        ## the key is either the column or row \n",
    "        ## we have to check if its column or row\n",
    "        if self.isRow(key):\n",
    "            ## find the min \n",
    "            lowestValue = sys.maxsize\n",
    "            exampleColumn = []\n",
    "            for row in values:\n",
    "                lowestValue = min(lowestValue, row['value'])\n",
    "                exampleColumn.append(row['example'])\n",
    "                    \n",
    "            yield key, {\"value\": lowestValue, \"examples\": list(set(exampleColumn))}\n",
    "           \n",
    "        if  self.isColumn(key):\n",
    "            ## find the max \n",
    "            highestValue = 0\n",
    "            exampleRow = []\n",
    "            for column in values:\n",
    "                highestValue = max(highestValue, column['value'])\n",
    "                exampleRow.append(column['example'])\n",
    "                                \n",
    "            yield key, {\"value\": highestValue, \"examples\": list(set(exampleRow))}\n",
    "        \n",
    "   ## helper method to determine the colum \n",
    "    def isColumn(self, value):\n",
    "        columnsRegex = re.compile(r\"[A-J]\")\n",
    "        return re.match(columnsRegex, value)\n",
    "    \n",
    "    ## helper method to determine the row \n",
    "    def isRow(self, value):\n",
    "        rowsRegex = re.compile(r\"[K-T]\")\n",
    "        return re.match(rowsRegex, value)\n",
    "    \n",
    "if __name__ == '__main__':\n",
    "    MaxColMinRow3.run()"
   ]
  },
  {
   "cell_type": "code",
   "execution_count": 56,
   "id": "b6f8da08",
   "metadata": {},
   "outputs": [
    {
     "name": "stdout",
     "output_type": "stream",
     "text": [
      "\"A\"\t{\"value\":994,\"examples\":[\"M\",\"L\",\"P\",\"Q\",\"R\",\"N\",\"T\",\"K\",\"O\",\"S\"]}"
     ]
    },
    {
     "name": "stderr",
     "output_type": "stream",
     "text": [
      "No configs found; falling back on auto-configuration\n",
      "No configs specified for inline runner\n",
      "Creating temp directory C:\\Users\\moham\\AppData\\Local\\Temp\\find_max_col_min_row_part_3.moham.20231002.063742.750390\n",
      "Running step 1 of 1...\n",
      "job output is in C:\\Users\\moham\\AppData\\Local\\Temp\\find_max_col_min_row_part_3.moham.20231002.063742.750390\\output\n",
      "Streaming final output from C:\\Users\\moham\\AppData\\Local\\Temp\\find_max_col_min_row_part_3.moham.20231002.063742.750390\\output...\n",
      "Removing temp directory C:\\Users\\moham\\AppData\\Local\\Temp\\find_max_col_min_row_part_3.moham.20231002.063742.750390...\n"
     ]
    },
    {
     "name": "stdout",
     "output_type": "stream",
     "text": [
      "\n",
      "\"B\"\t{\"value\":999,\"examples\":[\"M\",\"L\",\"P\",\"Q\",\"R\",\"N\",\"T\",\"K\",\"O\",\"S\"]}\n",
      "\"C\"\t{\"value\":987,\"examples\":[\"M\",\"L\",\"P\",\"Q\",\"R\",\"N\",\"T\",\"K\",\"O\",\"S\"]}\n",
      "\"D\"\t{\"value\":995,\"examples\":[\"M\",\"L\",\"P\",\"Q\",\"R\",\"N\",\"T\",\"K\",\"O\",\"S\"]}\n",
      "\"E\"\t{\"value\":998,\"examples\":[\"M\",\"L\",\"P\",\"Q\",\"R\",\"N\",\"T\",\"K\",\"O\",\"S\"]}\n",
      "\"F\"\t{\"value\":997,\"examples\":[\"M\",\"L\",\"P\",\"Q\",\"R\",\"N\",\"T\",\"K\",\"O\",\"S\"]}\n",
      "\"G\"\t{\"value\":997,\"examples\":[\"M\",\"L\",\"P\",\"Q\",\"R\",\"N\",\"T\",\"K\",\"O\",\"S\"]}\n",
      "\"H\"\t{\"value\":997,\"examples\":[\"M\",\"L\",\"P\",\"Q\",\"R\",\"N\",\"T\",\"K\",\"O\",\"S\"]}\n",
      "\"I\"\t{\"value\":995,\"examples\":[\"M\",\"L\",\"P\",\"Q\",\"R\",\"N\",\"T\",\"K\",\"O\",\"S\"]}\n",
      "\"J\"\t{\"value\":992,\"examples\":[\"M\",\"L\",\"P\",\"Q\",\"R\",\"N\",\"T\",\"K\",\"O\",\"S\"]}\n",
      "\"K\"\t{\"value\":0,\"examples\":[\"F\",\"E\",\"D\",\"H\",\"I\",\"J\",\"B\",\"A\",\"C\",\"G\"]}\n",
      "\"L\"\t{\"value\":3,\"examples\":[\"F\",\"E\",\"D\",\"H\",\"I\",\"J\",\"B\",\"A\",\"C\",\"G\"]}\n",
      "\"M\"\t{\"value\":0,\"examples\":[\"F\",\"E\",\"D\",\"H\",\"I\",\"J\",\"B\",\"A\",\"C\",\"G\"]}\n",
      "\"N\"\t{\"value\":13,\"examples\":[\"F\",\"E\",\"D\",\"H\",\"I\",\"J\",\"B\",\"A\",\"C\",\"G\"]}\n",
      "\"O\"\t{\"value\":1,\"examples\":[\"F\",\"E\",\"D\",\"H\",\"I\",\"J\",\"B\",\"A\",\"C\",\"G\"]}\n",
      "\"P\"\t{\"value\":12,\"examples\":[\"F\",\"E\",\"D\",\"H\",\"I\",\"J\",\"B\",\"A\",\"C\",\"G\"]}\n",
      "\"Q\"\t{\"value\":0,\"examples\":[\"F\",\"E\",\"D\",\"H\",\"I\",\"J\",\"B\",\"A\",\"C\",\"G\"]}\n",
      "\"R\"\t{\"value\":2,\"examples\":[\"F\",\"E\",\"D\",\"H\",\"I\",\"J\",\"B\",\"A\",\"C\",\"G\"]}\n",
      "\"S\"\t{\"value\":5,\"examples\":[\"F\",\"E\",\"D\",\"H\",\"I\",\"J\",\"B\",\"A\",\"C\",\"G\"]}\n",
      "\"T\"\t{\"value\":2,\"examples\":[\"F\",\"E\",\"D\",\"H\",\"I\",\"J\",\"B\",\"A\",\"C\",\"G\"]}\n"
     ]
    }
   ],
   "source": [
    "!python find_max_col_min_row_part_3.py cs4650hw1.dat"
   ]
  },
  {
   "cell_type": "code",
   "execution_count": null,
   "id": "208ad972",
   "metadata": {},
   "outputs": [],
   "source": []
  }
 ],
 "metadata": {
  "kernelspec": {
   "display_name": "Python 3 (ipykernel)",
   "language": "python",
   "name": "python3"
  },
  "language_info": {
   "codemirror_mode": {
    "name": "ipython",
    "version": 3
   },
   "file_extension": ".py",
   "mimetype": "text/x-python",
   "name": "python",
   "nbconvert_exporter": "python",
   "pygments_lexer": "ipython3",
   "version": "3.11.5"
  }
 },
 "nbformat": 4,
 "nbformat_minor": 5
}
